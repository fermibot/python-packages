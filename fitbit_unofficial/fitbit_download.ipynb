{
 "cells": [
  {
   "cell_type": "code",
   "execution_count": 1,
   "metadata": {
    "collapsed": true
   },
   "outputs": [
    {
     "name": "stderr",
     "output_type": "stream",
     "text": [
      "[20/Sep/2020:06:11:54] ENGINE Listening for SIGTERM.\n",
      "[20/Sep/2020:06:11:54] ENGINE Bus STARTING\n",
      "[20/Sep/2020:06:11:54] ENGINE Set handler for console events.\n",
      "CherryPy Checker:\n",
      "The Application mounted at '' has an empty config.\n",
      "\n",
      "[20/Sep/2020:06:11:54] ENGINE Started monitor thread 'Autoreloader'.\n",
      "[20/Sep/2020:06:11:54] ENGINE Serving on http://127.0.0.1:8080\n",
      "[20/Sep/2020:06:11:54] ENGINE Bus STARTED\n",
      "[20/Sep/2020:06:11:57] ENGINE Bus STOPPING\n",
      "[20/Sep/2020:06:11:57] ENGINE HTTP Server cherrypy._cpwsgi_server.CPWSGIServer(('127.0.0.1', 8080)) shut down\n",
      "[20/Sep/2020:06:11:57] ENGINE Removed handler for console events.\n",
      "[20/Sep/2020:06:11:57] ENGINE Stopped thread 'Autoreloader'.\n",
      "[20/Sep/2020:06:11:57] ENGINE Bus STOPPED\n",
      "[20/Sep/2020:06:11:57] ENGINE Bus EXITING\n",
      "[20/Sep/2020:06:11:57] ENGINE Waiting for child threads to terminate...\n",
      "[20/Sep/2020:06:11:57] ENGINE Bus EXITED\n",
      "[20/Sep/2020:06:11:57] ENGINE Waiting for thread Thread-19.\n"
     ]
    },
    {
     "name": "stdout",
     "output_type": "stream",
     "text": [
      "127.0.0.1 - - [20/Sep/2020:06:11:56] \"GET /?code=42a302eaac41ac3f05496dd43cf3020dd965cd98&state=JaAhW3uCVgXIiiMYVaoI6gHAkqM4iI HTTP/1.1\" 200 122 \"\" \"Mozilla/5.0 (Windows NT 10.0; Win64; x64) AppleWebKit/537.36 (KHTML, like Gecko) Chrome/85.0.4183.102 Safari/537.36\"\n"
     ]
    }
   ],
   "source": [
    "import fitbit\n",
    "import fitbit_unofficial.python_fitbit_master.gather_keys_oauth2 as Oauth2\n",
    "import pandas as pd\n",
    "import datetime\n",
    "\n",
    "CLIENT_ID = '22BRX6'\n",
    "CLIENT_SECRET = '076384926bc49edf8ce052084d86adec'\n",
    "server = Oauth2.OAuth2Server(client_id=CLIENT_ID, client_secret=CLIENT_SECRET)\n",
    "server.browser_authorize()\n",
    "\n",
    "ACCESS_TOKEN = str(server.fitbit.client.session.token['access_token'])\n",
    "REFRESH_TOKEN = str(server.fitbit.client.session.token['refresh_token'])\n",
    "auth2_client = fitbit.Fitbit(client_id=CLIENT_ID, client_secret=CLIENT_SECRET, access_token=ACCESS_TOKEN,\n",
    "                             refresh_token=REFRESH_TOKEN, oath=True)\n",
    "\n"
   ]
  },
  {
   "cell_type": "code",
   "execution_count": 2,
   "outputs": [],
   "source": [
    "yesterday = str((datetime.datetime.now() - datetime.timedelta(days=1)).strftime(\"%Y%m%d\"))\n",
    "yesterday2 = str((datetime.datetime.now() - datetime.timedelta(days=1)).strftime(\"%Y-%m-%d\"))\n",
    "today = str(datetime.datetime.now().strftime(\"%Y%m%d\"))\n",
    "fit_statsHR = auth2_client.intraday_time_series('activities/heart', base_date=yesterday2, detail_level='1sec')"
   ],
   "metadata": {
    "collapsed": false,
    "pycharm": {
     "name": "#%%\n"
    }
   }
  },
  {
   "cell_type": "code",
   "execution_count": 6,
   "outputs": [
    {
     "data": {
      "text/plain": "[{'dateTime': '2020-09-19',\n  'value': {'customHeartRateZones': [],\n   'heartRateZones': [{'caloriesOut': 2492.08515,\n     'max': 109,\n     'min': 30,\n     'minutes': 1357,\n     'name': 'Out of Range'},\n    {'caloriesOut': 146.46789999999996,\n     'max': 136,\n     'min': 109,\n     'minutes': 21,\n     'name': 'Fat Burn'},\n    {'caloriesOut': 281.83295000000004,\n     'max': 169,\n     'min': 136,\n     'minutes': 22,\n     'name': 'Cardio'},\n    {'caloriesOut': 537.8714,\n     'max': 220,\n     'min': 169,\n     'minutes': 40,\n     'name': 'Peak'}],\n   'restingHeartRate': 56}}]"
     },
     "execution_count": 6,
     "metadata": {},
     "output_type": "execute_result"
    }
   ],
   "source": [
    "fit_statsHR['activities-heart']"
   ],
   "metadata": {
    "collapsed": false,
    "pycharm": {
     "name": "#%%\n"
    }
   }
  }
 ],
 "metadata": {
  "kernelspec": {
   "display_name": "Python 3",
   "language": "python",
   "name": "python3"
  },
  "language_info": {
   "codemirror_mode": {
    "name": "ipython",
    "version": 2
   },
   "file_extension": ".py",
   "mimetype": "text/x-python",
   "name": "python",
   "nbconvert_exporter": "python",
   "pygments_lexer": "ipython2",
   "version": "2.7.6"
  }
 },
 "nbformat": 4,
 "nbformat_minor": 0
}